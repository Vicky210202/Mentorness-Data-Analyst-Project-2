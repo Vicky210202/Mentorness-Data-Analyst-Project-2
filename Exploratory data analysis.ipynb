{
 "cells": [
  {
   "cell_type": "code",
   "execution_count": 12,
   "metadata": {},
   "outputs": [],
   "source": [
    "import pandas as pd\n",
    "import numpy as np\n",
    "from matplotlib import pyplot as plt\n",
    "%matplotlib inline\n",
    "import seaborn as sns\n",
    "import dtale"
   ]
  },
  {
   "cell_type": "code",
   "execution_count": 2,
   "metadata": {},
   "outputs": [],
   "source": [
    "pd.pandas.set_option(\"display.max_columns\", None)"
   ]
  },
  {
   "cell_type": "code",
   "execution_count": 6,
   "metadata": {},
   "outputs": [],
   "source": [
    "df = pd.read_csv(\"NREGA.csv\", sep = \";\")"
   ]
  },
  {
   "cell_type": "code",
   "execution_count": 8,
   "metadata": {},
   "outputs": [
    {
     "name": "stdout",
     "output_type": "stream",
     "text": [
      "<class 'pandas.core.frame.DataFrame'>\n",
      "RangeIndex: 740 entries, 0 to 739\n",
      "Data columns (total 30 columns):\n",
      " #   Column                                                      Non-Null Count  Dtype  \n",
      "---  ------                                                      --------------  -----  \n",
      " 0   state_name                                                  740 non-null    object \n",
      " 1   district_name                                               740 non-null    object \n",
      " 2   Total No. of JobCards issued                                740 non-null    int64  \n",
      " 3   Total No. of Workers                                        740 non-null    int64  \n",
      " 4   Total No. of Active Job Cards                               740 non-null    int64  \n",
      " 5   Total No. of Active Workers                                 740 non-null    int64  \n",
      " 6   SC workers against active workers                           740 non-null    int64  \n",
      " 7   ST workers against active workers                           740 non-null    int64  \n",
      " 8   Approved Labour Budget                                      740 non-null    int64  \n",
      " 9   Persondays of Central Liability so far                      740 non-null    int64  \n",
      " 10  SC persondays                                               740 non-null    int64  \n",
      " 11  ST persondays                                               740 non-null    int64  \n",
      " 12  Women Persondays                                            740 non-null    int64  \n",
      " 13  Average days of employment provided per Household           740 non-null    int64  \n",
      " 14  Average Wage rate per day per person(Rs.)                   740 non-null    float64\n",
      " 15  Total No of HHs completed 100 Days of Wage Employment       740 non-null    int64  \n",
      " 16  Total Households Worked                                     740 non-null    int64  \n",
      " 17  Total Individuals Worked                                    740 non-null    int64  \n",
      " 18  Differently abled persons worked                            740 non-null    int64  \n",
      " 19  Number of GPs with NIL exp                                  740 non-null    int64  \n",
      " 20  Total No. of Works Takenup (New+Spill Over)                 740 non-null    int64  \n",
      " 21  Number of Ongoing Works                                     740 non-null    int64  \n",
      " 22  Number of Completed Works                                   740 non-null    int64  \n",
      " 23  % of NRM Expenditure(Public + Individual)                   740 non-null    float64\n",
      " 24  % of Category B Works                                       740 non-null    int64  \n",
      " 25  % of Expenditure on Agriculture & Agriculture Allied Works  740 non-null    float64\n",
      " 26  Total Exp(Rs. in Lakhs.)                                    740 non-null    float64\n",
      " 27  Wages(Rs. In Lakhs)                                         740 non-null    float64\n",
      " 28  Material and skilled Wages(Rs. In Lakhs)                    740 non-null    float64\n",
      " 29  Total Adm Expenditure (Rs. in Lakhs.)                       740 non-null    float64\n",
      "dtypes: float64(7), int64(21), object(2)\n",
      "memory usage: 173.6+ KB\n"
     ]
    }
   ],
   "source": [
    "df.info()"
   ]
  },
  {
   "cell_type": "code",
   "execution_count": 11,
   "metadata": {},
   "outputs": [
    {
     "data": {
      "text/plain": [
       "state_name                                                    False\n",
       "district_name                                                 False\n",
       "Total No. of JobCards issued                                  False\n",
       "Total No. of Workers                                          False\n",
       "Total No. of Active Job Cards                                 False\n",
       "Total No. of Active Workers                                   False\n",
       "SC workers against active workers                             False\n",
       "ST workers against active workers                             False\n",
       "Approved Labour Budget                                        False\n",
       "Persondays of Central Liability so far                        False\n",
       "SC persondays                                                 False\n",
       "ST persondays                                                 False\n",
       "Women Persondays                                              False\n",
       "Average days of employment provided per Household             False\n",
       "Average Wage rate per day per person(Rs.)                     False\n",
       "Total No of HHs completed 100 Days of Wage Employment         False\n",
       "Total Households Worked                                       False\n",
       "Total Individuals Worked                                      False\n",
       "Differently abled persons worked                              False\n",
       "Number of GPs with NIL exp                                    False\n",
       "Total No. of Works Takenup (New+Spill Over)                   False\n",
       "Number of Ongoing Works                                       False\n",
       "Number of Completed Works                                     False\n",
       "% of NRM Expenditure(Public + Individual)                     False\n",
       "% of Category B Works                                         False\n",
       "% of Expenditure on Agriculture & Agriculture Allied Works    False\n",
       "Total Exp(Rs. in Lakhs.)                                      False\n",
       "Wages(Rs. In Lakhs)                                           False\n",
       "Material and skilled Wages(Rs. In Lakhs)                      False\n",
       "Total Adm Expenditure (Rs. in Lakhs.)                         False\n",
       "dtype: bool"
      ]
     },
     "execution_count": 11,
     "metadata": {},
     "output_type": "execute_result"
    }
   ],
   "source": [
    "df.isna().any()"
   ]
  },
  {
   "cell_type": "code",
   "execution_count": 13,
   "metadata": {},
   "outputs": [
    {
     "data": {
      "text/html": [
       "\n",
       "        <iframe\n",
       "            width=\"100%\"\n",
       "            height=\"475\"\n",
       "            src=\"http://Lenovo:40000/dtale/iframe/1\"\n",
       "            frameborder=\"0\"\n",
       "            allowfullscreen\n",
       "            \n",
       "        ></iframe>\n",
       "        "
      ],
      "text/plain": [
       "<IPython.lib.display.IFrame at 0x1d49e662000>"
      ]
     },
     "metadata": {},
     "output_type": "display_data"
    },
    {
     "data": {
      "text/plain": []
     },
     "execution_count": 13,
     "metadata": {},
     "output_type": "execute_result"
    }
   ],
   "source": [
    "dtale.show(df)"
   ]
  },
  {
   "cell_type": "code",
   "execution_count": null,
   "metadata": {},
   "outputs": [],
   "source": []
  }
 ],
 "metadata": {
  "kernelspec": {
   "display_name": "Python 3",
   "language": "python",
   "name": "python3"
  },
  "language_info": {
   "codemirror_mode": {
    "name": "ipython",
    "version": 3
   },
   "file_extension": ".py",
   "mimetype": "text/x-python",
   "name": "python",
   "nbconvert_exporter": "python",
   "pygments_lexer": "ipython3",
   "version": "3.12.4"
  }
 },
 "nbformat": 4,
 "nbformat_minor": 2
}
